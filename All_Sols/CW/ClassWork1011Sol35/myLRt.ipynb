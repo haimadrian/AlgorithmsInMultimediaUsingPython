{
 "cells": [
  {
   "cell_type": "code",
   "execution_count": 1,
   "metadata": {},
   "outputs": [],
   "source": [
    "import numpy as np\n",
    "import matplotlib.pyplot as plt\n",
    "import os\n",
    "import cv2\n",
    "from numpy import linalg as LA"
   ]
  },
  {
   "cell_type": "code",
   "execution_count": 2,
   "metadata": {
    "collapsed": true
   },
   "outputs": [],
   "source": [
    "\n",
    "def list_files(directory):\n",
    "\n",
    "    if os.path.exists(directory) == False:\n",
    "        return None\n",
    "\n",
    "    return [x for x in os.listdir(directory) if os.path.isfile(os.path.join(directory, x))]\n"
   ]
  },
  {
   "cell_type": "code",
   "execution_count": 3,
   "metadata": {},
   "outputs": [],
   "source": [
    "def LoadImageData(dPath, fileNames):\n",
    "\n",
    "    if os.path.exists(dPath) == False or fileNames.__class__ != [].__class__:\n",
    "        return None\n",
    "\n",
    "    Images = list()\n",
    "    Labels = list()\n",
    "    for f in  fileNames:\n",
    "        filePath = dPath + '/' + f\n",
    "        Images.append(cv2.imread(filePath, 0))\n",
    "        if f[-5].isdigit():\n",
    "            Labels.append(np.float64(f[-5]))\n",
    "        else:\n",
    "            raise ValueError('The file name does not end with digit.')\n",
    "\n",
    "    return Images , Labels"
   ]
  },
  {
   "cell_type": "code",
   "execution_count": 4,
   "metadata": {},
   "outputs": [],
   "source": [
    "def ReconstructData(Images , Labels):\n",
    "\n",
    "    if Labels.__class__ != [].__class__ or Images.__class__ != [].__class__:\n",
    "        return None\n",
    "\n",
    "    m,n = Images[0].shape\n",
    "    k = len(Images)\n",
    "    DataMat = np.zeros((k, m*n))\n",
    "    LabelVec = np.array(Labels).reshape((-1,1))\n",
    "\n",
    "    for i in range(k):\n",
    "\n",
    "        DataMat[i] = Images[i].reshape((1,-1))\n",
    "\n",
    "    return DataMat, LabelVec"
   ]
  },
  {
   "cell_type": "code",
   "execution_count": 5,
   "metadata": {},
   "outputs": [],
   "source": [
    "def LoadMnistData():\n",
    "\n",
    "    dataPath = os.getcwd() + '/Data'\n",
    "    testPath = dataPath + '/test'\n",
    "    trainPath = dataPath + '/train'\n",
    "\n",
    "    TestFileNames = list_files(testPath)\n",
    "    TrainFileNames = list_files(trainPath)\n",
    "\n",
    "    TestList, TestLabelList = LoadImageData(testPath, TestFileNames)\n",
    "    TrainList, TrainLabelList = LoadImageData(trainPath, TrainFileNames)\n",
    "\n",
    "    TestDataMat, TestLabelVec = ReconstructData(TestList, TestLabelList)\n",
    "    TrainDataMat, TrainLabelVec = ReconstructData(TrainList, TrainLabelList)\n",
    "\n",
    "    return TrainDataMat, TrainLabelVec, TestDataMat, TestLabelVec"
   ]
  },
  {
   "cell_type": "code",
   "execution_count": 6,
   "metadata": {},
   "outputs": [],
   "source": [
    "def BinarizeData(TrainDataMat, TrainLabelVec, TestDataMat, TestLabelVec, num1, num2):\n",
    "\n",
    "    indListTr = list()\n",
    "    for k in range(len(TrainLabelVec)):\n",
    "\n",
    "        if TrainLabelVec[k] == num1:\n",
    "\n",
    "            indListTr.append(k)\n",
    "            TrainLabelVec[k] = 0.\n",
    "\n",
    "        elif TrainLabelVec[k] == num2:\n",
    "\n",
    "            indListTr.append(k)\n",
    "            TrainLabelVec[k] = 1.\n",
    "\n",
    "    indListTe = list()\n",
    "    for k in range(len(TestLabelVec)):\n",
    "\n",
    "        if TestLabelVec[k] == num1:\n",
    "\n",
    "            indListTe.append(k)\n",
    "            TestLabelVec[k] = 0.\n",
    "\n",
    "        elif TestLabelVec[k] == num2:\n",
    "\n",
    "            indListTe.append(k)\n",
    "            TestLabelVec[k] = 1.\n",
    "\n",
    "    return TrainDataMat[indListTr, :], TrainLabelVec[indListTr, :], TestDataMat[indListTe, :], TestLabelVec[indListTe, :]"
   ]
  },
  {
   "cell_type": "code",
   "execution_count": 7,
   "metadata": {},
   "outputs": [],
   "source": [
    "def SigmoidF(w,x):\n",
    "\n",
    "    return 1 / (1 + np.exp(-x.dot(w)))"
   ]
  },
  {
   "cell_type": "code",
   "execution_count": 8,
   "metadata": {},
   "outputs": [],
   "source": [
    "def myLogisticRegression(TrainData, TrainLabel, eps=0.01, sensitivity=10 ** (-7)):\n",
    "\n",
    "    w0 = np.random.uniform(0, np.max(TrainData), (TrainData.shape[1],1))\n",
    "\n",
    "    dl0 = TrainData.transpose().dot(TrainLabel - SigmoidF(w0,TrainData))\n",
    "\n",
    "    w1 = w0 + eps * dl0\n",
    "    dl1 = TrainData.transpose().dot(TrainLabel - SigmoidF(w1,TrainData))\n",
    "\n",
    "    df = dl1 - dl0\n",
    "    NormVal = LA.norm(df, 2) ** 2\n",
    "\n",
    "    while NormVal > sensitivity:\n",
    "\n",
    "        w0 = w1\n",
    "        dl0 = dl1\n",
    "\n",
    "        w1 = w0 + eps * dl0\n",
    "        dl1 = TrainData.transpose().dot(TrainLabel - SigmoidF(w1, TrainData))\n",
    "\n",
    "        df = dl1 - dl0\n",
    "        NormVal = LA.norm(df, 2) ** 2\n",
    "\n",
    "    return w1"
   ]
  },
  {
   "cell_type": "code",
   "execution_count": 9,
   "metadata": {},
   "outputs": [],
   "source": [
    "def myLogisticClassification(TestData, w):\n",
    "\n",
    "    appLabel = SigmoidF(w,TestData)\n",
    "    appLabel[appLabel >= 0.5] = 1\n",
    "    appLabel[appLabel < 0.5] = 0\n",
    "    \n",
    "    LabelVec = 1 - appLabel.reshape((-1,1))\n",
    "    \n",
    "    return LabelVec"
   ]
  },
  {
   "cell_type": "code",
   "execution_count": 10,
   "metadata": {},
   "outputs": [],
   "source": [
    "TrainDataMat, TrainLabelVec, TestDataMat, TestLabelVec = LoadMnistData()\n"
   ]
  },
  {
   "cell_type": "code",
   "execution_count": 11,
   "metadata": {},
   "outputs": [],
   "source": [
    "num1, num2 = 0., 1.\n",
    "bTrainDataMat, bTrainLabelVec, bTestDataMat, bTestLabelVec = BinarizeData(TrainDataMat, TrainLabelVec, TestDataMat, TestLabelVec, num1, num2)\n"
   ]
  },
  {
   "cell_type": "code",
   "execution_count": 13,
   "metadata": {},
   "outputs": [
    {
     "name": "stdout",
     "output_type": "stream",
     "text": [
      "(784, 1)\n"
     ]
    }
   ],
   "source": [
    "W = myLogisticRegression(bTrainDataMat, bTrainLabelVec)\n",
    "\n",
    "print(W.shape)"
   ]
  },
  {
   "cell_type": "code",
   "execution_count": 14,
   "metadata": {},
   "outputs": [],
   "source": [
    "ApproximateLabel = myLogisticClassification(bTestDataMat, W)"
   ]
  },
  {
   "cell_type": "code",
   "execution_count": 15,
   "metadata": {},
   "outputs": [
    {
     "name": "stdout",
     "output_type": "stream",
     "text": [
      "99.81087470449172\n"
     ]
    }
   ],
   "source": [
    "acc = 100 * np.sum(np.abs(ApproximateLabel - bTestLabelVec)) / len(bTestLabelVec)\n",
    "\n",
    "print(acc)"
   ]
  },
  {
   "cell_type": "code",
   "execution_count": null,
   "metadata": {},
   "outputs": [],
   "source": []
  }
 ],
 "metadata": {
  "kernelspec": {
   "name": "python3",
   "language": "python",
   "display_name": "Python 3"
  },
  "language_info": {
   "codemirror_mode": {
    "name": "ipython",
    "version": 2
   },
   "file_extension": ".py",
   "mimetype": "text/x-python",
   "name": "python",
   "nbconvert_exporter": "python",
   "pygments_lexer": "ipython2",
   "version": "2.7.6"
  }
 },
 "nbformat": 4,
 "nbformat_minor": 0
}